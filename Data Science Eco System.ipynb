{
 "cells": [
  {
   "cell_type": "markdown",
   "id": "16b2fb8c",
   "metadata": {},
   "source": [
    "# Data science Tools and Ecosystem"
   ]
  },
  {
   "cell_type": "markdown",
   "id": "0aac64c9",
   "metadata": {},
   "source": [
    "in this notebook, data science Tools and Ecocystem are summarized"
   ]
  },
  {
   "cell_type": "markdown",
   "id": "a62d3b20",
   "metadata": {},
   "source": [
    "Some of the popular languages that data scienctists use are:\n",
    "   \n",
    "   1. Python\n",
    "   2. R\n",
    "   3. SQL\n",
    "   4. C++\n",
    "   5. Java"
   ]
  },
  {
   "cell_type": "markdown",
   "id": "7f239d48",
   "metadata": {},
   "source": [
    "Some of the commonly used libraries used by Data Scientists include:\n",
    "    \n",
    "    1. NumPy\n",
    "    2. SciPy\n",
    "    3. Panda\n",
    "    4. Keras"
   ]
  },
  {
   "cell_type": "markdown",
   "id": "2903d82b",
   "metadata": {},
   "source": [
    "# Table"
   ]
  },
  {
   "cell_type": "markdown",
   "id": "c775e935",
   "metadata": {},
   "source": [
    "|Sr# |Data Science Tools|\n",
    "|-------|-------|\n",
    "|1|Jupyter Note Book|\n",
    "|2|Python|\n",
    "|3|Apache Spark|\n",
    "|4|Apache Hadoop|"
   ]
  },
  {
   "cell_type": "markdown",
   "id": "2db97bed",
   "metadata": {},
   "source": [
    "## Arithmetic operations"
   ]
  },
  {
   "cell_type": "markdown",
   "id": "1b86e272",
   "metadata": {},
   "source": [
    "### Below are a few examples of evaluating arithmetic expressions in Python"
   ]
  },
  {
   "cell_type": "code",
   "execution_count": 7,
   "id": "2a9560b0",
   "metadata": {},
   "outputs": [
    {
     "data": {
      "text/plain": [
       "17"
      ]
     },
     "execution_count": 7,
     "metadata": {},
     "output_type": "execute_result"
    }
   ],
   "source": [
    "#This is a  arithmetic example to multiply and then add integers\n",
    "(3*4)+5"
   ]
  },
  {
   "cell_type": "code",
   "execution_count": 8,
   "id": "96e12029",
   "metadata": {},
   "outputs": [
    {
     "data": {
      "text/plain": [
       "3.3333333333333335"
      ]
     },
     "execution_count": 8,
     "metadata": {},
     "output_type": "execute_result"
    }
   ],
   "source": [
    "# This will convert 200 minutes to hours by dividing it by 60\n",
    "200/60"
   ]
  },
  {
   "cell_type": "markdown",
   "id": "069634ce",
   "metadata": {},
   "source": [
    "_Objectives_\n",
    "* List Popular Languages for Data Science\n",
    "* List Popular Libraries for Data Science\n",
    "* List the Popular Data Science Tools\n",
    "* Draw Table\n",
    "* Perform Some artithmatic Functions"
   ]
  },
  {
   "cell_type": "markdown",
   "id": "9ed32011",
   "metadata": {},
   "source": [
    "## Author\n",
    "M. Adeel Kamram"
   ]
  }
 ],
 "metadata": {
  "kernelspec": {
   "display_name": "Python 3 (ipykernel)",
   "language": "python",
   "name": "python3"
  },
  "language_info": {
   "codemirror_mode": {
    "name": "ipython",
    "version": 3
   },
   "file_extension": ".py",
   "mimetype": "text/x-python",
   "name": "python",
   "nbconvert_exporter": "python",
   "pygments_lexer": "ipython3",
   "version": "3.11.5"
  }
 },
 "nbformat": 4,
 "nbformat_minor": 5
}
